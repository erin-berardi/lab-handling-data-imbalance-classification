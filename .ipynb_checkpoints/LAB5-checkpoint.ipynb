{
 "cells": [
  {
   "cell_type": "code",
   "execution_count": 39,
   "id": "c03cea6b",
   "metadata": {},
   "outputs": [],
   "source": [
    "import pandas as pd\n",
    "import numpy as np\n",
    "\n",
    "import warnings\n",
    "warnings.filterwarnings('ignore')"
   ]
  },
  {
   "cell_type": "code",
   "execution_count": 121,
   "id": "c091bf7f",
   "metadata": {},
   "outputs": [],
   "source": [
    "numerical = pd.read_csv(\"/Users/giacomorossini/Desktop/IRONHACK/Class/14_week/numerical.csv\")\n",
    "target = pd.read_csv(\"/Users/giacomorossini/Desktop/IRONHACK/Class/14_week/target.csv\")\n",
    "targetB = target['TARGET_B']\n",
    "targetD = target['TARGET_D']"
   ]
  },
  {
   "cell_type": "code",
   "execution_count": 41,
   "id": "876d790c",
   "metadata": {},
   "outputs": [
    {
     "data": {
      "text/plain": [
       "'\\nYou are revisiting the Healthcare for All Case Study. \\nYou are provided with this historical data about Donors and how much they donated. \\nYour task is to build a machine learning model that will help the company identify people who are more likely \\nto donate and then try to predict the donation amount.\\n'"
      ]
     },
     "execution_count": 41,
     "metadata": {},
     "output_type": "execute_result"
    }
   ],
   "source": [
    "'''\n",
    "You are revisiting the Healthcare for All Case Study. \n",
    "You are provided with this historical data about Donors and how much they donated. \n",
    "Your task is to build a machine learning model that will help the company identify people who are more likely \n",
    "to donate and then try to predict the donation amount.\n",
    "'''"
   ]
  },
  {
   "cell_type": "code",
   "execution_count": 111,
   "id": "84ec7050",
   "metadata": {},
   "outputs": [
    {
     "data": {
      "text/plain": [
       "TCODE         int64\n",
       "AGE         float64\n",
       "INCOME        int64\n",
       "WEALTH1       int64\n",
       "HIT           int64\n",
       "             ...   \n",
       "AVGGIFT     float64\n",
       "CONTROLN      int64\n",
       "HPHONE_D      int64\n",
       "RFA_2F        int64\n",
       "CLUSTER2      int64\n",
       "Length: 315, dtype: object"
      ]
     },
     "execution_count": 111,
     "metadata": {},
     "output_type": "execute_result"
    }
   ],
   "source": [
    "# Check the datatypes of all the columns in the data. \n",
    "len(numerical.columns) #315\n",
    "numerical.dtypes"
   ]
  },
  {
   "cell_type": "code",
   "execution_count": 112,
   "id": "8244f370",
   "metadata": {
    "scrolled": true
   },
   "outputs": [
    {
     "data": {
      "text/html": [
       "<div>\n",
       "<style scoped>\n",
       "    .dataframe tbody tr th:only-of-type {\n",
       "        vertical-align: middle;\n",
       "    }\n",
       "\n",
       "    .dataframe tbody tr th {\n",
       "        vertical-align: top;\n",
       "    }\n",
       "\n",
       "    .dataframe thead th {\n",
       "        text-align: right;\n",
       "    }\n",
       "</style>\n",
       "<table border=\"1\" class=\"dataframe\">\n",
       "  <thead>\n",
       "    <tr style=\"text-align: right;\">\n",
       "      <th></th>\n",
       "      <th>columns_name</th>\n",
       "      <th>nulls_percentage</th>\n",
       "    </tr>\n",
       "  </thead>\n",
       "  <tbody>\n",
       "    <tr>\n",
       "      <th>0</th>\n",
       "      <td>TCODE</td>\n",
       "      <td>0.0</td>\n",
       "    </tr>\n",
       "    <tr>\n",
       "      <th>207</th>\n",
       "      <td>EIC4</td>\n",
       "      <td>0.0</td>\n",
       "    </tr>\n",
       "    <tr>\n",
       "      <th>214</th>\n",
       "      <td>EIC11</td>\n",
       "      <td>0.0</td>\n",
       "    </tr>\n",
       "    <tr>\n",
       "      <th>213</th>\n",
       "      <td>EIC10</td>\n",
       "      <td>0.0</td>\n",
       "    </tr>\n",
       "    <tr>\n",
       "      <th>212</th>\n",
       "      <td>EIC9</td>\n",
       "      <td>0.0</td>\n",
       "    </tr>\n",
       "    <tr>\n",
       "      <th>...</th>\n",
       "      <td>...</td>\n",
       "      <td>...</td>\n",
       "    </tr>\n",
       "    <tr>\n",
       "      <th>104</th>\n",
       "      <td>ETHC1</td>\n",
       "      <td>0.0</td>\n",
       "    </tr>\n",
       "    <tr>\n",
       "      <th>103</th>\n",
       "      <td>HHD12</td>\n",
       "      <td>0.0</td>\n",
       "    </tr>\n",
       "    <tr>\n",
       "      <th>102</th>\n",
       "      <td>HHD11</td>\n",
       "      <td>0.0</td>\n",
       "    </tr>\n",
       "    <tr>\n",
       "      <th>101</th>\n",
       "      <td>HHD10</td>\n",
       "      <td>0.0</td>\n",
       "    </tr>\n",
       "    <tr>\n",
       "      <th>314</th>\n",
       "      <td>CLUSTER2</td>\n",
       "      <td>0.0</td>\n",
       "    </tr>\n",
       "  </tbody>\n",
       "</table>\n",
       "<p>315 rows × 2 columns</p>\n",
       "</div>"
      ],
      "text/plain": [
       "    columns_name  nulls_percentage\n",
       "0          TCODE               0.0\n",
       "207         EIC4               0.0\n",
       "214        EIC11               0.0\n",
       "213        EIC10               0.0\n",
       "212         EIC9               0.0\n",
       "..           ...               ...\n",
       "104        ETHC1               0.0\n",
       "103        HHD12               0.0\n",
       "102        HHD11               0.0\n",
       "101        HHD10               0.0\n",
       "314     CLUSTER2               0.0\n",
       "\n",
       "[315 rows x 2 columns]"
      ]
     },
     "execution_count": 112,
     "metadata": {},
     "output_type": "execute_result"
    }
   ],
   "source": [
    "data = pd.DataFrame(numerical.isna().sum()/len(numerical)).reset_index()\n",
    "data.columns=['columns_name', 'nulls_percentage']\n",
    "data.sort_values(by='nulls_percentage', ascending=False)"
   ]
  },
  {
   "cell_type": "code",
   "execution_count": 114,
   "id": "5b23f07e",
   "metadata": {},
   "outputs": [],
   "source": [
    "treshold = 0.10\n",
    "data_wran=data[data['nulls_percentage']>treshold]\n",
    "drop_col = list(data_wran['columns_name'])\n",
    "numerical = numerical.drop(drop_col, axis = 1)"
   ]
  },
  {
   "cell_type": "code",
   "execution_count": 115,
   "id": "dffee12b",
   "metadata": {},
   "outputs": [
    {
     "data": {
      "text/plain": [
       "[]"
      ]
     },
     "execution_count": 115,
     "metadata": {},
     "output_type": "execute_result"
    }
   ],
   "source": [
    "data1 = pd.DataFrame(numerical.isna().sum()).reset_index()\n",
    "data1.columns=['columns_name', 'nulls_percentage']\n",
    "col_nul = list(data1[data1['nulls_percentage'] != 0]['columns_name']) #len 11 cols\n",
    "col_nul"
   ]
  },
  {
   "cell_type": "code",
   "execution_count": 47,
   "id": "aa8afe05",
   "metadata": {},
   "outputs": [],
   "source": [
    "#for i in col_nul:\n",
    "#    donors[i].fillna(max(set(list(donors[i])), key=list(donors[i]).count), inplace = True)"
   ]
  },
  {
   "cell_type": "code",
   "execution_count": 48,
   "id": "08b57510",
   "metadata": {},
   "outputs": [],
   "source": [
    "# laternative way to calculate the mode\n",
    "\n",
    "#mode_values= donors.mode().iloc[0]\n",
    "#donors = donors.fillna(mode_values)"
   ]
  },
  {
   "cell_type": "code",
   "execution_count": 118,
   "id": "10abc883",
   "metadata": {
    "scrolled": true
   },
   "outputs": [
    {
     "data": {
      "text/html": [
       "<div>\n",
       "<style scoped>\n",
       "    .dataframe tbody tr th:only-of-type {\n",
       "        vertical-align: middle;\n",
       "    }\n",
       "\n",
       "    .dataframe tbody tr th {\n",
       "        vertical-align: top;\n",
       "    }\n",
       "\n",
       "    .dataframe thead th {\n",
       "        text-align: right;\n",
       "    }\n",
       "</style>\n",
       "<table border=\"1\" class=\"dataframe\">\n",
       "  <thead>\n",
       "    <tr style=\"text-align: right;\">\n",
       "      <th></th>\n",
       "    </tr>\n",
       "  </thead>\n",
       "  <tbody>\n",
       "    <tr>\n",
       "      <th>0</th>\n",
       "    </tr>\n",
       "    <tr>\n",
       "      <th>1</th>\n",
       "    </tr>\n",
       "    <tr>\n",
       "      <th>2</th>\n",
       "    </tr>\n",
       "    <tr>\n",
       "      <th>3</th>\n",
       "    </tr>\n",
       "    <tr>\n",
       "      <th>4</th>\n",
       "    </tr>\n",
       "    <tr>\n",
       "      <th>...</th>\n",
       "    </tr>\n",
       "    <tr>\n",
       "      <th>95407</th>\n",
       "    </tr>\n",
       "    <tr>\n",
       "      <th>95408</th>\n",
       "    </tr>\n",
       "    <tr>\n",
       "      <th>95409</th>\n",
       "    </tr>\n",
       "    <tr>\n",
       "      <th>95410</th>\n",
       "    </tr>\n",
       "    <tr>\n",
       "      <th>95411</th>\n",
       "    </tr>\n",
       "  </tbody>\n",
       "</table>\n",
       "<p>95412 rows × 0 columns</p>\n",
       "</div>"
      ],
      "text/plain": [
       "Empty DataFrame\n",
       "Columns: []\n",
       "Index: [0, 1, 2, 3, 4, 5, 6, 7, 8, 9, 10, 11, 12, 13, 14, 15, 16, 17, 18, 19, 20, 21, 22, 23, 24, 25, 26, 27, 28, 29, 30, 31, 32, 33, 34, 35, 36, 37, 38, 39, 40, 41, 42, 43, 44, 45, 46, 47, 48, 49, 50, 51, 52, 53, 54, 55, 56, 57, 58, 59, 60, 61, 62, 63, 64, 65, 66, 67, 68, 69, 70, 71, 72, 73, 74, 75, 76, 77, 78, 79, 80, 81, 82, 83, 84, 85, 86, 87, 88, 89, 90, 91, 92, 93, 94, 95, 96, 97, 98, 99, ...]\n",
       "\n",
       "[95412 rows x 0 columns]"
      ]
     },
     "execution_count": 118,
     "metadata": {},
     "output_type": "execute_result"
    }
   ],
   "source": [
    "#numerical = donors.select_dtypes(include = np.number)\n",
    "categorical = numerical.select_dtypes(exclude = np.number)\n",
    "categorical #no categorical"
   ]
  },
  {
   "cell_type": "code",
   "execution_count": 165,
   "id": "265e43c1",
   "metadata": {},
   "outputs": [],
   "source": [
    "# Split the data into a training set and a test set.\n",
    "\n",
    "from sklearn.model_selection import train_test_split\n",
    "\n",
    "Y = targetB\n",
    "X = numerical\n",
    "\n",
    "X_train, X_test, y_train, y_test = train_test_split(X, Y, random_state = 42, test_size= 0.2)"
   ]
  },
  {
   "cell_type": "code",
   "execution_count": 166,
   "id": "5196601d",
   "metadata": {},
   "outputs": [
    {
     "name": "stdout",
     "output_type": "stream",
     "text": [
      "The accuracy of the model is =  0.95\n"
     ]
    }
   ],
   "source": [
    "from sklearn.linear_model import LogisticRegression\n",
    "\n",
    "LR = LogisticRegression()\n",
    "LR.fit(X_train,y_train)\n",
    "result = LR.score(X_test,y_test) \n",
    "print(\"The accuracy of the model is = \", round(result,2))"
   ]
  },
  {
   "cell_type": "code",
   "execution_count": 137,
   "id": "d99c05af",
   "metadata": {
    "scrolled": true
   },
   "outputs": [
    {
     "name": "stdout",
     "output_type": "stream",
     "text": [
      "Precision is :  0.047619047619047616\n",
      "Recall is :  0.0010224948875255625\n",
      "F1 is :  0.002002002002002002\n",
      "              precision    recall  f1-score   support\n",
      "\n",
      "           0       0.95      1.00      0.97     18105\n",
      "           1       0.05      0.00      0.00       978\n",
      "\n",
      "    accuracy                           0.95     19083\n",
      "   macro avg       0.50      0.50      0.49     19083\n",
      "weighted avg       0.90      0.95      0.92     19083\n",
      "\n"
     ]
    }
   ],
   "source": [
    "from sklearn.metrics import precision_score #precision metrics\n",
    "from sklearn.metrics import recall_score #recall metrics\n",
    "from sklearn.metrics import f1_score #f1 metrics\n",
    "from sklearn.metrics import classification_report #classification metrics\n",
    "\n",
    "#maximizing recall for all healthy issue topic\n",
    "\n",
    "pred = LR.predict(X_test)\n",
    "\n",
    "print(\"Precision is : \", precision_score(y_test, pred))\n",
    "print(\"Recall is : \", recall_score(y_test, pred))\n",
    "print(\"F1 is : \", f1_score(y_test, pred))\n",
    "\n",
    "print(classification_report(y_test, pred))"
   ]
  },
  {
   "cell_type": "code",
   "execution_count": 139,
   "id": "89a41da1",
   "metadata": {},
   "outputs": [
    {
     "data": {
      "text/plain": [
       "array([[18085,    20],\n",
       "       [  977,     1]])"
      ]
     },
     "execution_count": 139,
     "metadata": {},
     "output_type": "execute_result"
    }
   ],
   "source": [
    "from sklearn.metrics import confusion_matrix\n",
    "\n",
    "confusion_matrix(y_test, pred)"
   ]
  },
  {
   "cell_type": "code",
   "execution_count": null,
   "id": "589204b9",
   "metadata": {},
   "outputs": [],
   "source": [
    "'''\n",
    "Managing imbalance in the dataset\n",
    "\n",
    "- Check for the imbalance.\n",
    "- Use the resampling strategies used in class for upsampling and downsampling to create a balance between the two classes.\n",
    "- Each time fit the model and see how the accuracy of the model has changed.\n",
    "\n",
    "'''"
   ]
  },
  {
   "cell_type": "code",
   "execution_count": 143,
   "id": "4b8729ad",
   "metadata": {
    "scrolled": true
   },
   "outputs": [
    {
     "name": "stdout",
     "output_type": "stream",
     "text": [
      "0    90569\n",
      "1     4843\n",
      "Name: TARGET_B, dtype: int64\n"
     ]
    }
   ],
   "source": [
    "print(target['TARGET_B'].value_counts())\n",
    "data = pd.concat([numerical, target], axis=1)\n",
    "#take out the other target not usefull to undersample/oversample\n",
    "data=data.drop('TARGET_D', axis=1)"
   ]
  },
  {
   "cell_type": "markdown",
   "id": "63501dc4",
   "metadata": {},
   "source": [
    "# UNDERSAMPLE"
   ]
  },
  {
   "cell_type": "code",
   "execution_count": 148,
   "id": "9cd79395",
   "metadata": {},
   "outputs": [],
   "source": [
    "category_0 = data[data['TARGET_B'] == 0]\n",
    "category_1 = data[data['TARGET_B'] == 1]"
   ]
  },
  {
   "cell_type": "code",
   "execution_count": 149,
   "id": "884e6459",
   "metadata": {},
   "outputs": [
    {
     "data": {
      "text/html": [
       "<div>\n",
       "<style scoped>\n",
       "    .dataframe tbody tr th:only-of-type {\n",
       "        vertical-align: middle;\n",
       "    }\n",
       "\n",
       "    .dataframe tbody tr th {\n",
       "        vertical-align: top;\n",
       "    }\n",
       "\n",
       "    .dataframe thead th {\n",
       "        text-align: right;\n",
       "    }\n",
       "</style>\n",
       "<table border=\"1\" class=\"dataframe\">\n",
       "  <thead>\n",
       "    <tr style=\"text-align: right;\">\n",
       "      <th></th>\n",
       "      <th>TCODE</th>\n",
       "      <th>AGE</th>\n",
       "      <th>INCOME</th>\n",
       "      <th>WEALTH1</th>\n",
       "      <th>HIT</th>\n",
       "      <th>MALEMILI</th>\n",
       "      <th>MALEVET</th>\n",
       "      <th>VIETVETS</th>\n",
       "      <th>WWIIVETS</th>\n",
       "      <th>LOCALGOV</th>\n",
       "      <th>...</th>\n",
       "      <th>MINRAMNT</th>\n",
       "      <th>MAXRAMNT</th>\n",
       "      <th>LASTGIFT</th>\n",
       "      <th>TIMELAG</th>\n",
       "      <th>AVGGIFT</th>\n",
       "      <th>CONTROLN</th>\n",
       "      <th>HPHONE_D</th>\n",
       "      <th>RFA_2F</th>\n",
       "      <th>CLUSTER2</th>\n",
       "      <th>TARGET_B</th>\n",
       "    </tr>\n",
       "  </thead>\n",
       "  <tbody>\n",
       "    <tr>\n",
       "      <th>66635</th>\n",
       "      <td>0</td>\n",
       "      <td>40.000000</td>\n",
       "      <td>5</td>\n",
       "      <td>9</td>\n",
       "      <td>0</td>\n",
       "      <td>5</td>\n",
       "      <td>31</td>\n",
       "      <td>51</td>\n",
       "      <td>17</td>\n",
       "      <td>7</td>\n",
       "      <td>...</td>\n",
       "      <td>3.0</td>\n",
       "      <td>13.0</td>\n",
       "      <td>11.0</td>\n",
       "      <td>12</td>\n",
       "      <td>9.375000</td>\n",
       "      <td>27925</td>\n",
       "      <td>1</td>\n",
       "      <td>3</td>\n",
       "      <td>14</td>\n",
       "      <td>0</td>\n",
       "    </tr>\n",
       "    <tr>\n",
       "      <th>42851</th>\n",
       "      <td>0</td>\n",
       "      <td>63.000000</td>\n",
       "      <td>4</td>\n",
       "      <td>7</td>\n",
       "      <td>16</td>\n",
       "      <td>2</td>\n",
       "      <td>27</td>\n",
       "      <td>39</td>\n",
       "      <td>25</td>\n",
       "      <td>10</td>\n",
       "      <td>...</td>\n",
       "      <td>3.0</td>\n",
       "      <td>16.0</td>\n",
       "      <td>16.0</td>\n",
       "      <td>6</td>\n",
       "      <td>8.500000</td>\n",
       "      <td>105974</td>\n",
       "      <td>1</td>\n",
       "      <td>2</td>\n",
       "      <td>22</td>\n",
       "      <td>0</td>\n",
       "    </tr>\n",
       "    <tr>\n",
       "      <th>47145</th>\n",
       "      <td>0</td>\n",
       "      <td>52.000000</td>\n",
       "      <td>4</td>\n",
       "      <td>9</td>\n",
       "      <td>12</td>\n",
       "      <td>8</td>\n",
       "      <td>49</td>\n",
       "      <td>38</td>\n",
       "      <td>18</td>\n",
       "      <td>11</td>\n",
       "      <td>...</td>\n",
       "      <td>2.0</td>\n",
       "      <td>5.0</td>\n",
       "      <td>3.0</td>\n",
       "      <td>14</td>\n",
       "      <td>3.600000</td>\n",
       "      <td>33314</td>\n",
       "      <td>1</td>\n",
       "      <td>4</td>\n",
       "      <td>32</td>\n",
       "      <td>0</td>\n",
       "    </tr>\n",
       "    <tr>\n",
       "      <th>27439</th>\n",
       "      <td>1</td>\n",
       "      <td>72.000000</td>\n",
       "      <td>4</td>\n",
       "      <td>2</td>\n",
       "      <td>0</td>\n",
       "      <td>0</td>\n",
       "      <td>37</td>\n",
       "      <td>30</td>\n",
       "      <td>41</td>\n",
       "      <td>9</td>\n",
       "      <td>...</td>\n",
       "      <td>10.0</td>\n",
       "      <td>19.0</td>\n",
       "      <td>19.0</td>\n",
       "      <td>16</td>\n",
       "      <td>14.500000</td>\n",
       "      <td>80985</td>\n",
       "      <td>0</td>\n",
       "      <td>1</td>\n",
       "      <td>43</td>\n",
       "      <td>0</td>\n",
       "    </tr>\n",
       "    <tr>\n",
       "      <th>73246</th>\n",
       "      <td>1</td>\n",
       "      <td>76.000000</td>\n",
       "      <td>4</td>\n",
       "      <td>9</td>\n",
       "      <td>0</td>\n",
       "      <td>0</td>\n",
       "      <td>16</td>\n",
       "      <td>17</td>\n",
       "      <td>43</td>\n",
       "      <td>3</td>\n",
       "      <td>...</td>\n",
       "      <td>5.0</td>\n",
       "      <td>15.0</td>\n",
       "      <td>15.0</td>\n",
       "      <td>12</td>\n",
       "      <td>10.000000</td>\n",
       "      <td>144061</td>\n",
       "      <td>0</td>\n",
       "      <td>1</td>\n",
       "      <td>10</td>\n",
       "      <td>0</td>\n",
       "    </tr>\n",
       "    <tr>\n",
       "      <th>...</th>\n",
       "      <td>...</td>\n",
       "      <td>...</td>\n",
       "      <td>...</td>\n",
       "      <td>...</td>\n",
       "      <td>...</td>\n",
       "      <td>...</td>\n",
       "      <td>...</td>\n",
       "      <td>...</td>\n",
       "      <td>...</td>\n",
       "      <td>...</td>\n",
       "      <td>...</td>\n",
       "      <td>...</td>\n",
       "      <td>...</td>\n",
       "      <td>...</td>\n",
       "      <td>...</td>\n",
       "      <td>...</td>\n",
       "      <td>...</td>\n",
       "      <td>...</td>\n",
       "      <td>...</td>\n",
       "      <td>...</td>\n",
       "      <td>...</td>\n",
       "    </tr>\n",
       "    <tr>\n",
       "      <th>35937</th>\n",
       "      <td>2</td>\n",
       "      <td>88.000000</td>\n",
       "      <td>6</td>\n",
       "      <td>9</td>\n",
       "      <td>0</td>\n",
       "      <td>0</td>\n",
       "      <td>27</td>\n",
       "      <td>13</td>\n",
       "      <td>25</td>\n",
       "      <td>8</td>\n",
       "      <td>...</td>\n",
       "      <td>2.0</td>\n",
       "      <td>10.0</td>\n",
       "      <td>10.0</td>\n",
       "      <td>7</td>\n",
       "      <td>6.105263</td>\n",
       "      <td>82058</td>\n",
       "      <td>0</td>\n",
       "      <td>3</td>\n",
       "      <td>14</td>\n",
       "      <td>0</td>\n",
       "    </tr>\n",
       "    <tr>\n",
       "      <th>40701</th>\n",
       "      <td>0</td>\n",
       "      <td>79.000000</td>\n",
       "      <td>5</td>\n",
       "      <td>9</td>\n",
       "      <td>0</td>\n",
       "      <td>0</td>\n",
       "      <td>30</td>\n",
       "      <td>34</td>\n",
       "      <td>10</td>\n",
       "      <td>6</td>\n",
       "      <td>...</td>\n",
       "      <td>5.0</td>\n",
       "      <td>15.0</td>\n",
       "      <td>15.0</td>\n",
       "      <td>4</td>\n",
       "      <td>12.407407</td>\n",
       "      <td>7263</td>\n",
       "      <td>0</td>\n",
       "      <td>1</td>\n",
       "      <td>21</td>\n",
       "      <td>0</td>\n",
       "    </tr>\n",
       "    <tr>\n",
       "      <th>1119</th>\n",
       "      <td>0</td>\n",
       "      <td>61.611649</td>\n",
       "      <td>5</td>\n",
       "      <td>9</td>\n",
       "      <td>0</td>\n",
       "      <td>0</td>\n",
       "      <td>42</td>\n",
       "      <td>8</td>\n",
       "      <td>75</td>\n",
       "      <td>11</td>\n",
       "      <td>...</td>\n",
       "      <td>5.0</td>\n",
       "      <td>15.0</td>\n",
       "      <td>15.0</td>\n",
       "      <td>4</td>\n",
       "      <td>8.500000</td>\n",
       "      <td>45323</td>\n",
       "      <td>0</td>\n",
       "      <td>1</td>\n",
       "      <td>32</td>\n",
       "      <td>0</td>\n",
       "    </tr>\n",
       "    <tr>\n",
       "      <th>75182</th>\n",
       "      <td>0</td>\n",
       "      <td>70.000000</td>\n",
       "      <td>4</td>\n",
       "      <td>9</td>\n",
       "      <td>0</td>\n",
       "      <td>0</td>\n",
       "      <td>35</td>\n",
       "      <td>31</td>\n",
       "      <td>39</td>\n",
       "      <td>5</td>\n",
       "      <td>...</td>\n",
       "      <td>0.0</td>\n",
       "      <td>35.0</td>\n",
       "      <td>35.0</td>\n",
       "      <td>42</td>\n",
       "      <td>21.000000</td>\n",
       "      <td>9955</td>\n",
       "      <td>1</td>\n",
       "      <td>2</td>\n",
       "      <td>54</td>\n",
       "      <td>0</td>\n",
       "    </tr>\n",
       "    <tr>\n",
       "      <th>52960</th>\n",
       "      <td>1</td>\n",
       "      <td>76.000000</td>\n",
       "      <td>5</td>\n",
       "      <td>9</td>\n",
       "      <td>0</td>\n",
       "      <td>0</td>\n",
       "      <td>29</td>\n",
       "      <td>38</td>\n",
       "      <td>42</td>\n",
       "      <td>3</td>\n",
       "      <td>...</td>\n",
       "      <td>5.0</td>\n",
       "      <td>15.0</td>\n",
       "      <td>15.0</td>\n",
       "      <td>6</td>\n",
       "      <td>10.500000</td>\n",
       "      <td>162393</td>\n",
       "      <td>0</td>\n",
       "      <td>1</td>\n",
       "      <td>2</td>\n",
       "      <td>0</td>\n",
       "    </tr>\n",
       "  </tbody>\n",
       "</table>\n",
       "<p>4843 rows × 316 columns</p>\n",
       "</div>"
      ],
      "text/plain": [
       "       TCODE        AGE  INCOME  WEALTH1  HIT  MALEMILI  MALEVET  VIETVETS  \\\n",
       "66635      0  40.000000       5        9    0         5       31        51   \n",
       "42851      0  63.000000       4        7   16         2       27        39   \n",
       "47145      0  52.000000       4        9   12         8       49        38   \n",
       "27439      1  72.000000       4        2    0         0       37        30   \n",
       "73246      1  76.000000       4        9    0         0       16        17   \n",
       "...      ...        ...     ...      ...  ...       ...      ...       ...   \n",
       "35937      2  88.000000       6        9    0         0       27        13   \n",
       "40701      0  79.000000       5        9    0         0       30        34   \n",
       "1119       0  61.611649       5        9    0         0       42         8   \n",
       "75182      0  70.000000       4        9    0         0       35        31   \n",
       "52960      1  76.000000       5        9    0         0       29        38   \n",
       "\n",
       "       WWIIVETS  LOCALGOV  ...  MINRAMNT  MAXRAMNT  LASTGIFT  TIMELAG  \\\n",
       "66635        17         7  ...       3.0      13.0      11.0       12   \n",
       "42851        25        10  ...       3.0      16.0      16.0        6   \n",
       "47145        18        11  ...       2.0       5.0       3.0       14   \n",
       "27439        41         9  ...      10.0      19.0      19.0       16   \n",
       "73246        43         3  ...       5.0      15.0      15.0       12   \n",
       "...         ...       ...  ...       ...       ...       ...      ...   \n",
       "35937        25         8  ...       2.0      10.0      10.0        7   \n",
       "40701        10         6  ...       5.0      15.0      15.0        4   \n",
       "1119         75        11  ...       5.0      15.0      15.0        4   \n",
       "75182        39         5  ...       0.0      35.0      35.0       42   \n",
       "52960        42         3  ...       5.0      15.0      15.0        6   \n",
       "\n",
       "         AVGGIFT  CONTROLN  HPHONE_D  RFA_2F  CLUSTER2  TARGET_B  \n",
       "66635   9.375000     27925         1       3        14         0  \n",
       "42851   8.500000    105974         1       2        22         0  \n",
       "47145   3.600000     33314         1       4        32         0  \n",
       "27439  14.500000     80985         0       1        43         0  \n",
       "73246  10.000000    144061         0       1        10         0  \n",
       "...          ...       ...       ...     ...       ...       ...  \n",
       "35937   6.105263     82058         0       3        14         0  \n",
       "40701  12.407407      7263         0       1        21         0  \n",
       "1119    8.500000     45323         0       1        32         0  \n",
       "75182  21.000000      9955         1       2        54         0  \n",
       "52960  10.500000    162393         0       1         2         0  \n",
       "\n",
       "[4843 rows x 316 columns]"
      ]
     },
     "execution_count": 149,
     "metadata": {},
     "output_type": "execute_result"
    }
   ],
   "source": [
    "category_0 = category_0.sample(len(category_1))"
   ]
  },
  {
   "cell_type": "code",
   "execution_count": 146,
   "id": "40d44866",
   "metadata": {},
   "outputs": [
    {
     "data": {
      "text/plain": [
       "0    4843\n",
       "1    4843\n",
       "Name: TARGET_B, dtype: int64"
      ]
     },
     "execution_count": 146,
     "metadata": {},
     "output_type": "execute_result"
    }
   ],
   "source": [
    "data = pd.concat([category_0, category_1], axis=0)\n",
    "data['TARGET_B'].value_counts()"
   ]
  },
  {
   "cell_type": "code",
   "execution_count": 151,
   "id": "66135cce",
   "metadata": {},
   "outputs": [],
   "source": [
    "Y = data['TARGET_B']\n",
    "X = data.drop('TARGET_B', axis=1)\n",
    "\n",
    "X_train, X_test, y_train, y_test = train_test_split(X, Y, random_state = 42, test_size= 0.2)"
   ]
  },
  {
   "cell_type": "code",
   "execution_count": 152,
   "id": "53288240",
   "metadata": {},
   "outputs": [
    {
     "data": {
      "text/plain": [
       "0.5500515995872033"
      ]
     },
     "execution_count": 152,
     "metadata": {},
     "output_type": "execute_result"
    }
   ],
   "source": [
    "LR = LogisticRegression()\n",
    "LR.fit(X_train,y_train)\n",
    "LR.score(X_test,y_test) "
   ]
  },
  {
   "cell_type": "code",
   "execution_count": 153,
   "id": "c3be8450",
   "metadata": {},
   "outputs": [
    {
     "name": "stdout",
     "output_type": "stream",
     "text": [
      "Precision is :  0.5414534288638689\n",
      "Recall is :  0.5550891920251836\n",
      "F1 is :  0.5481865284974092\n",
      "              precision    recall  f1-score   support\n",
      "\n",
      "           0       0.56      0.55      0.55       985\n",
      "           1       0.54      0.56      0.55       953\n",
      "\n",
      "    accuracy                           0.55      1938\n",
      "   macro avg       0.55      0.55      0.55      1938\n",
      "weighted avg       0.55      0.55      0.55      1938\n",
      "\n"
     ]
    }
   ],
   "source": [
    "pred = LR.predict(X_test)\n",
    "\n",
    "print(\"Precision is : \", precision_score(y_test, pred))\n",
    "print(\"Recall is : \", recall_score(y_test, pred))\n",
    "print(\"F1 is : \", f1_score(y_test, pred))\n",
    "\n",
    "print(classification_report(y_test, pred))"
   ]
  },
  {
   "cell_type": "code",
   "execution_count": 154,
   "id": "a2498c8c",
   "metadata": {},
   "outputs": [
    {
     "data": {
      "text/plain": [
       "array([[537, 448],\n",
       "       [424, 529]])"
      ]
     },
     "execution_count": 154,
     "metadata": {},
     "output_type": "execute_result"
    }
   ],
   "source": [
    "confusion_matrix(y_test, pred)"
   ]
  },
  {
   "cell_type": "markdown",
   "id": "b22524a5",
   "metadata": {},
   "source": [
    "# UPSAMPLE"
   ]
  },
  {
   "cell_type": "code",
   "execution_count": 157,
   "id": "293b43f5",
   "metadata": {},
   "outputs": [],
   "source": [
    "data = pd.concat([numerical, target], axis=1)\n",
    "#take out the other target not usefull to undersample/oversample\n",
    "data=data.drop('TARGET_D', axis=1)\n",
    "\n",
    "category_0 = data[data['TARGET_B'] == 0]\n",
    "category_1 = data[data['TARGET_B'] == 1]"
   ]
  },
  {
   "cell_type": "code",
   "execution_count": 158,
   "id": "2baf2b5e",
   "metadata": {},
   "outputs": [],
   "source": [
    "from sklearn.utils import resample\n",
    "category_1 = resample(category_1, #data we are duplicating\n",
    "                     replace = True, #replace the data by adding\n",
    "                     n_samples = len(category_0), #number of samples\n",
    "                     random_state= 42 \n",
    "                     )"
   ]
  },
  {
   "cell_type": "code",
   "execution_count": 159,
   "id": "e9a94b6c",
   "metadata": {},
   "outputs": [
    {
     "data": {
      "text/plain": [
       "0    90569\n",
       "1    90569\n",
       "Name: TARGET_B, dtype: int64"
      ]
     },
     "execution_count": 159,
     "metadata": {},
     "output_type": "execute_result"
    }
   ],
   "source": [
    "data = pd.concat([category_0, category_1], axis=0)\n",
    "data['TARGET_B'].value_counts()"
   ]
  },
  {
   "cell_type": "code",
   "execution_count": 160,
   "id": "4e324619",
   "metadata": {},
   "outputs": [],
   "source": [
    "Y = data['TARGET_B']\n",
    "X = data.drop('TARGET_B', axis=1)\n",
    "\n",
    "X_train, X_test, y_train, y_test = train_test_split(X, Y, random_state = 42, test_size= 0.2)"
   ]
  },
  {
   "cell_type": "code",
   "execution_count": 161,
   "id": "64c4c7fd",
   "metadata": {},
   "outputs": [
    {
     "data": {
      "text/plain": [
       "0.5396378491774318"
      ]
     },
     "execution_count": 161,
     "metadata": {},
     "output_type": "execute_result"
    }
   ],
   "source": [
    "LR = LogisticRegression()\n",
    "LR.fit(X_train,y_train)\n",
    "LR.score(X_test,y_test) "
   ]
  },
  {
   "cell_type": "code",
   "execution_count": 162,
   "id": "350dbce5",
   "metadata": {},
   "outputs": [
    {
     "name": "stdout",
     "output_type": "stream",
     "text": [
      "Precision is :  0.5459755947245162\n",
      "Recall is :  0.4875619152449092\n",
      "F1 is :  0.5151180369810444\n",
      "              precision    recall  f1-score   support\n",
      "\n",
      "           0       0.53      0.59      0.56     18058\n",
      "           1       0.55      0.49      0.52     18170\n",
      "\n",
      "    accuracy                           0.54     36228\n",
      "   macro avg       0.54      0.54      0.54     36228\n",
      "weighted avg       0.54      0.54      0.54     36228\n",
      "\n"
     ]
    }
   ],
   "source": [
    "pred = LR.predict(X_test)\n",
    "\n",
    "print(\"Precision is : \", precision_score(y_test, pred))\n",
    "print(\"Recall is : \", recall_score(y_test, pred))\n",
    "print(\"F1 is : \", f1_score(y_test, pred))\n",
    "\n",
    "print(classification_report(y_test, pred))"
   ]
  },
  {
   "cell_type": "code",
   "execution_count": 163,
   "id": "7c32326c",
   "metadata": {},
   "outputs": [
    {
     "data": {
      "text/plain": [
       "array([[10691,  7367],\n",
       "       [ 9311,  8859]])"
      ]
     },
     "execution_count": 163,
     "metadata": {},
     "output_type": "execute_result"
    }
   ],
   "source": [
    "confusion_matrix(y_test, pred)"
   ]
  }
 ],
 "metadata": {
  "kernelspec": {
   "display_name": "Python 3 (ipykernel)",
   "language": "python",
   "name": "python3"
  },
  "language_info": {
   "codemirror_mode": {
    "name": "ipython",
    "version": 3
   },
   "file_extension": ".py",
   "mimetype": "text/x-python",
   "name": "python",
   "nbconvert_exporter": "python",
   "pygments_lexer": "ipython3",
   "version": "3.11.5"
  }
 },
 "nbformat": 4,
 "nbformat_minor": 5
}
