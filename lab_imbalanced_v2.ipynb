{
 "cells": [
  {
   "cell_type": "code",
   "execution_count": null,
   "id": "51425646",
   "metadata": {},
   "outputs": [],
   "source": [
    "#lab-handling-data-imbalance-classification"
   ]
  },
  {
   "cell_type": "code",
   "execution_count": null,
   "id": "9bde9619",
   "metadata": {},
   "outputs": [],
   "source": [
    "#Import the required libraries and modules that you would need."
   ]
  },
  {
   "cell_type": "code",
   "execution_count": 1,
   "id": "4416481f",
   "metadata": {},
   "outputs": [],
   "source": [
    "import pandas as pd\n",
    "import numpy as np\n",
    "from sklearn.preprocessing import MinMaxScaler\n",
    "from sklearn.preprocessing import OneHotEncoder\n",
    "from sklearn.linear_model import LogisticRegression\n",
    "from sklearn.model_selection import train_test_split\n",
    "from sklearn.metrics import accuracy_score\n",
    "\n",
    "import warnings\n",
    "warnings.filterwarnings(\"ignore\")\n",
    "\n",
    "from imblearn.over_sampling import SMOTE\n",
    "from imblearn.under_sampling import RandomUnderSampler"
   ]
  },
  {
   "cell_type": "code",
   "execution_count": null,
   "id": "fc8e5508",
   "metadata": {},
   "outputs": [],
   "source": [
    "#import the csv files cleaned in the lessons"
   ]
  },
  {
   "cell_type": "code",
   "execution_count": 2,
   "id": "ce38fc2d",
   "metadata": {},
   "outputs": [],
   "source": [
    "categorical = pd.read_csv('categorical_clean_feature_engineering.csv')\n",
    "numerical = pd.read_csv('numerical_clean_feature_engineering.csv')\n",
    "targets = pd.read_csv('Y_lab_feature_engineering.csv')"
   ]
  },
  {
   "cell_type": "code",
   "execution_count": 3,
   "id": "9fb73dfb",
   "metadata": {},
   "outputs": [],
   "source": [
    "targets=targets.drop(columns=\"TARGET_D\")"
   ]
  },
  {
   "cell_type": "code",
   "execution_count": null,
   "id": "3af77cd6",
   "metadata": {},
   "outputs": [],
   "source": [
    "#Scale the features either by using normalizer or a standard scaler. (train_num, test_num)"
   ]
  },
  {
   "cell_type": "code",
   "execution_count": 4,
   "id": "2c5e3fba",
   "metadata": {},
   "outputs": [
    {
     "data": {
      "text/html": [
       "<div>\n",
       "<style scoped>\n",
       "    .dataframe tbody tr th:only-of-type {\n",
       "        vertical-align: middle;\n",
       "    }\n",
       "\n",
       "    .dataframe tbody tr th {\n",
       "        vertical-align: top;\n",
       "    }\n",
       "\n",
       "    .dataframe thead th {\n",
       "        text-align: right;\n",
       "    }\n",
       "</style>\n",
       "<table border=\"1\" class=\"dataframe\">\n",
       "  <thead>\n",
       "    <tr style=\"text-align: right;\">\n",
       "      <th></th>\n",
       "      <th>ODATEDW</th>\n",
       "      <th>TCODE</th>\n",
       "      <th>DOB</th>\n",
       "      <th>AGE</th>\n",
       "      <th>INCOME</th>\n",
       "      <th>WEALTH1</th>\n",
       "      <th>HIT</th>\n",
       "      <th>MALEMILI</th>\n",
       "      <th>MALEVET</th>\n",
       "      <th>VIETVETS</th>\n",
       "      <th>...</th>\n",
       "      <th>MAXRDATE</th>\n",
       "      <th>LASTGIFT</th>\n",
       "      <th>LASTDATE</th>\n",
       "      <th>FISTDATE</th>\n",
       "      <th>TIMELAG</th>\n",
       "      <th>AVGGIFT</th>\n",
       "      <th>CONTROLN</th>\n",
       "      <th>HPHONE_D</th>\n",
       "      <th>RFA_2F</th>\n",
       "      <th>CLUSTER2</th>\n",
       "    </tr>\n",
       "  </thead>\n",
       "  <tbody>\n",
       "    <tr>\n",
       "      <th>0</th>\n",
       "      <td>0.426523</td>\n",
       "      <td>0.000000</td>\n",
       "      <td>0.382286</td>\n",
       "      <td>0.608247</td>\n",
       "      <td>0.000000</td>\n",
       "      <td>1.000000</td>\n",
       "      <td>0.000000</td>\n",
       "      <td>0.000000</td>\n",
       "      <td>0.393939</td>\n",
       "      <td>0.343434</td>\n",
       "      <td>...</td>\n",
       "      <td>0.863139</td>\n",
       "      <td>0.010</td>\n",
       "      <td>0.045226</td>\n",
       "      <td>0.927939</td>\n",
       "      <td>0.003676</td>\n",
       "      <td>0.006465</td>\n",
       "      <td>0.498045</td>\n",
       "      <td>0.0</td>\n",
       "      <td>1.000000</td>\n",
       "      <td>0.622951</td>\n",
       "    </tr>\n",
       "    <tr>\n",
       "      <th>1</th>\n",
       "      <td>0.784946</td>\n",
       "      <td>0.000014</td>\n",
       "      <td>0.535736</td>\n",
       "      <td>0.463918</td>\n",
       "      <td>0.857143</td>\n",
       "      <td>1.000000</td>\n",
       "      <td>0.066390</td>\n",
       "      <td>0.000000</td>\n",
       "      <td>0.151515</td>\n",
       "      <td>0.555556</td>\n",
       "      <td>...</td>\n",
       "      <td>0.913321</td>\n",
       "      <td>0.025</td>\n",
       "      <td>0.045226</td>\n",
       "      <td>0.969489</td>\n",
       "      <td>0.016544</td>\n",
       "      <td>0.014399</td>\n",
       "      <td>0.774510</td>\n",
       "      <td>0.0</td>\n",
       "      <td>0.333333</td>\n",
       "      <td>0.000000</td>\n",
       "    </tr>\n",
       "    <tr>\n",
       "      <th>2</th>\n",
       "      <td>0.498208</td>\n",
       "      <td>0.000014</td>\n",
       "      <td>0.000000</td>\n",
       "      <td>0.624862</td>\n",
       "      <td>0.428571</td>\n",
       "      <td>0.111111</td>\n",
       "      <td>0.008299</td>\n",
       "      <td>0.000000</td>\n",
       "      <td>0.202020</td>\n",
       "      <td>0.292929</td>\n",
       "      <td>...</td>\n",
       "      <td>0.774179</td>\n",
       "      <td>0.005</td>\n",
       "      <td>0.045226</td>\n",
       "      <td>0.937311</td>\n",
       "      <td>0.011029</td>\n",
       "      <td>0.006204</td>\n",
       "      <td>0.078617</td>\n",
       "      <td>1.0</td>\n",
       "      <td>1.000000</td>\n",
       "      <td>0.967213</td>\n",
       "    </tr>\n",
       "    <tr>\n",
       "      <th>3</th>\n",
       "      <td>0.283154</td>\n",
       "      <td>0.000000</td>\n",
       "      <td>0.288465</td>\n",
       "      <td>0.711340</td>\n",
       "      <td>0.142857</td>\n",
       "      <td>0.444444</td>\n",
       "      <td>0.008299</td>\n",
       "      <td>0.000000</td>\n",
       "      <td>0.232323</td>\n",
       "      <td>0.141414</td>\n",
       "      <td>...</td>\n",
       "      <td>0.867245</td>\n",
       "      <td>0.010</td>\n",
       "      <td>0.045226</td>\n",
       "      <td>0.906175</td>\n",
       "      <td>0.008272</td>\n",
       "      <td>0.005534</td>\n",
       "      <td>0.899764</td>\n",
       "      <td>1.0</td>\n",
       "      <td>1.000000</td>\n",
       "      <td>0.655738</td>\n",
       "    </tr>\n",
       "    <tr>\n",
       "      <th>4</th>\n",
       "      <td>0.211470</td>\n",
       "      <td>0.000000</td>\n",
       "      <td>0.206076</td>\n",
       "      <td>0.793814</td>\n",
       "      <td>0.428571</td>\n",
       "      <td>0.222222</td>\n",
       "      <td>0.248963</td>\n",
       "      <td>0.010101</td>\n",
       "      <td>0.282828</td>\n",
       "      <td>0.090909</td>\n",
       "      <td>...</td>\n",
       "      <td>0.953923</td>\n",
       "      <td>0.015</td>\n",
       "      <td>0.492462</td>\n",
       "      <td>0.822972</td>\n",
       "      <td>0.012868</td>\n",
       "      <td>0.005586</td>\n",
       "      <td>0.037079</td>\n",
       "      <td>1.0</td>\n",
       "      <td>0.333333</td>\n",
       "      <td>0.409836</td>\n",
       "    </tr>\n",
       "  </tbody>\n",
       "</table>\n",
       "<p>5 rows × 321 columns</p>\n",
       "</div>"
      ],
      "text/plain": [
       "    ODATEDW     TCODE       DOB       AGE    INCOME   WEALTH1       HIT  \\\n",
       "0  0.426523  0.000000  0.382286  0.608247  0.000000  1.000000  0.000000   \n",
       "1  0.784946  0.000014  0.535736  0.463918  0.857143  1.000000  0.066390   \n",
       "2  0.498208  0.000014  0.000000  0.624862  0.428571  0.111111  0.008299   \n",
       "3  0.283154  0.000000  0.288465  0.711340  0.142857  0.444444  0.008299   \n",
       "4  0.211470  0.000000  0.206076  0.793814  0.428571  0.222222  0.248963   \n",
       "\n",
       "   MALEMILI   MALEVET  VIETVETS  ...  MAXRDATE  LASTGIFT  LASTDATE  FISTDATE  \\\n",
       "0  0.000000  0.393939  0.343434  ...  0.863139     0.010  0.045226  0.927939   \n",
       "1  0.000000  0.151515  0.555556  ...  0.913321     0.025  0.045226  0.969489   \n",
       "2  0.000000  0.202020  0.292929  ...  0.774179     0.005  0.045226  0.937311   \n",
       "3  0.000000  0.232323  0.141414  ...  0.867245     0.010  0.045226  0.906175   \n",
       "4  0.010101  0.282828  0.090909  ...  0.953923     0.015  0.492462  0.822972   \n",
       "\n",
       "    TIMELAG   AVGGIFT  CONTROLN  HPHONE_D    RFA_2F  CLUSTER2  \n",
       "0  0.003676  0.006465  0.498045       0.0  1.000000  0.622951  \n",
       "1  0.016544  0.014399  0.774510       0.0  0.333333  0.000000  \n",
       "2  0.011029  0.006204  0.078617       1.0  1.000000  0.967213  \n",
       "3  0.008272  0.005534  0.899764       1.0  1.000000  0.655738  \n",
       "4  0.012868  0.005586  0.037079       1.0  0.333333  0.409836  \n",
       "\n",
       "[5 rows x 321 columns]"
      ]
     },
     "execution_count": 4,
     "metadata": {},
     "output_type": "execute_result"
    }
   ],
   "source": [
    "scaler = MinMaxScaler()\n",
    "\n",
    "for col in numerical.columns:\n",
    "    numerical[col] = scaler.fit_transform(numerical[[col]])\n",
    "\n",
    "numerical.head()"
   ]
  },
  {
   "cell_type": "code",
   "execution_count": 6,
   "id": "1aa53648",
   "metadata": {
    "scrolled": true
   },
   "outputs": [
    {
     "data": {
      "text/plain": [
       "STATE       12\n",
       "DOMAIN      16\n",
       "CLUSTER     53\n",
       "HOMEOWNR     2\n",
       "DATASRCE     5\n",
       "RFA_2       14\n",
       "RFA_2R       1\n",
       "RFA_2A       4\n",
       "DOMAIN_A     5\n",
       "DOMAIN_B     4\n",
       "dtype: int64"
      ]
     },
     "execution_count": 6,
     "metadata": {},
     "output_type": "execute_result"
    }
   ],
   "source": [
    "categorical=categorical.drop(columns=\"ZIP\")\n",
    "categorical.nunique()"
   ]
  },
  {
   "cell_type": "code",
   "execution_count": null,
   "id": "af63ff1f",
   "metadata": {},
   "outputs": [],
   "source": [
    "#Encode the categorical features using One-Hot Encoding or Ordinal Encoding. (train_cat, test_cat)"
   ]
  },
  {
   "cell_type": "code",
   "execution_count": 7,
   "id": "2dbf8549",
   "metadata": {
    "scrolled": true
   },
   "outputs": [
    {
     "data": {
      "text/html": [
       "<div>\n",
       "<style scoped>\n",
       "    .dataframe tbody tr th:only-of-type {\n",
       "        vertical-align: middle;\n",
       "    }\n",
       "\n",
       "    .dataframe tbody tr th {\n",
       "        vertical-align: top;\n",
       "    }\n",
       "\n",
       "    .dataframe thead th {\n",
       "        text-align: right;\n",
       "    }\n",
       "</style>\n",
       "<table border=\"1\" class=\"dataframe\">\n",
       "  <thead>\n",
       "    <tr style=\"text-align: right;\">\n",
       "      <th></th>\n",
       "      <th>STATE_CA</th>\n",
       "      <th>STATE_FL</th>\n",
       "      <th>STATE_GA</th>\n",
       "      <th>STATE_IL</th>\n",
       "      <th>STATE_IN</th>\n",
       "      <th>STATE_MI</th>\n",
       "      <th>STATE_MO</th>\n",
       "      <th>STATE_NC</th>\n",
       "      <th>STATE_TX</th>\n",
       "      <th>STATE_WA</th>\n",
       "      <th>...</th>\n",
       "      <th>RFA_2A_G</th>\n",
       "      <th>DOMAIN_A_C</th>\n",
       "      <th>DOMAIN_A_R</th>\n",
       "      <th>DOMAIN_A_S</th>\n",
       "      <th>DOMAIN_A_T</th>\n",
       "      <th>DOMAIN_A_U</th>\n",
       "      <th>DOMAIN_B_1</th>\n",
       "      <th>DOMAIN_B_2</th>\n",
       "      <th>DOMAIN_B_3</th>\n",
       "      <th>DOMAIN_B_4</th>\n",
       "    </tr>\n",
       "  </thead>\n",
       "  <tbody>\n",
       "    <tr>\n",
       "      <th>0</th>\n",
       "      <td>0.0</td>\n",
       "      <td>0.0</td>\n",
       "      <td>0.0</td>\n",
       "      <td>1.0</td>\n",
       "      <td>0.0</td>\n",
       "      <td>0.0</td>\n",
       "      <td>0.0</td>\n",
       "      <td>0.0</td>\n",
       "      <td>0.0</td>\n",
       "      <td>0.0</td>\n",
       "      <td>...</td>\n",
       "      <td>0.0</td>\n",
       "      <td>0.0</td>\n",
       "      <td>0.0</td>\n",
       "      <td>0.0</td>\n",
       "      <td>1.0</td>\n",
       "      <td>0.0</td>\n",
       "      <td>0.0</td>\n",
       "      <td>1.0</td>\n",
       "      <td>0.0</td>\n",
       "      <td>0.0</td>\n",
       "    </tr>\n",
       "    <tr>\n",
       "      <th>1</th>\n",
       "      <td>1.0</td>\n",
       "      <td>0.0</td>\n",
       "      <td>0.0</td>\n",
       "      <td>0.0</td>\n",
       "      <td>0.0</td>\n",
       "      <td>0.0</td>\n",
       "      <td>0.0</td>\n",
       "      <td>0.0</td>\n",
       "      <td>0.0</td>\n",
       "      <td>0.0</td>\n",
       "      <td>...</td>\n",
       "      <td>1.0</td>\n",
       "      <td>0.0</td>\n",
       "      <td>0.0</td>\n",
       "      <td>1.0</td>\n",
       "      <td>0.0</td>\n",
       "      <td>0.0</td>\n",
       "      <td>1.0</td>\n",
       "      <td>0.0</td>\n",
       "      <td>0.0</td>\n",
       "      <td>0.0</td>\n",
       "    </tr>\n",
       "    <tr>\n",
       "      <th>2</th>\n",
       "      <td>0.0</td>\n",
       "      <td>0.0</td>\n",
       "      <td>0.0</td>\n",
       "      <td>0.0</td>\n",
       "      <td>0.0</td>\n",
       "      <td>0.0</td>\n",
       "      <td>0.0</td>\n",
       "      <td>1.0</td>\n",
       "      <td>0.0</td>\n",
       "      <td>0.0</td>\n",
       "      <td>...</td>\n",
       "      <td>0.0</td>\n",
       "      <td>0.0</td>\n",
       "      <td>1.0</td>\n",
       "      <td>0.0</td>\n",
       "      <td>0.0</td>\n",
       "      <td>0.0</td>\n",
       "      <td>0.0</td>\n",
       "      <td>1.0</td>\n",
       "      <td>0.0</td>\n",
       "      <td>0.0</td>\n",
       "    </tr>\n",
       "    <tr>\n",
       "      <th>3</th>\n",
       "      <td>1.0</td>\n",
       "      <td>0.0</td>\n",
       "      <td>0.0</td>\n",
       "      <td>0.0</td>\n",
       "      <td>0.0</td>\n",
       "      <td>0.0</td>\n",
       "      <td>0.0</td>\n",
       "      <td>0.0</td>\n",
       "      <td>0.0</td>\n",
       "      <td>0.0</td>\n",
       "      <td>...</td>\n",
       "      <td>0.0</td>\n",
       "      <td>0.0</td>\n",
       "      <td>1.0</td>\n",
       "      <td>0.0</td>\n",
       "      <td>0.0</td>\n",
       "      <td>0.0</td>\n",
       "      <td>0.0</td>\n",
       "      <td>1.0</td>\n",
       "      <td>0.0</td>\n",
       "      <td>0.0</td>\n",
       "    </tr>\n",
       "    <tr>\n",
       "      <th>4</th>\n",
       "      <td>0.0</td>\n",
       "      <td>1.0</td>\n",
       "      <td>0.0</td>\n",
       "      <td>0.0</td>\n",
       "      <td>0.0</td>\n",
       "      <td>0.0</td>\n",
       "      <td>0.0</td>\n",
       "      <td>0.0</td>\n",
       "      <td>0.0</td>\n",
       "      <td>0.0</td>\n",
       "      <td>...</td>\n",
       "      <td>0.0</td>\n",
       "      <td>0.0</td>\n",
       "      <td>0.0</td>\n",
       "      <td>1.0</td>\n",
       "      <td>0.0</td>\n",
       "      <td>0.0</td>\n",
       "      <td>0.0</td>\n",
       "      <td>1.0</td>\n",
       "      <td>0.0</td>\n",
       "      <td>0.0</td>\n",
       "    </tr>\n",
       "  </tbody>\n",
       "</table>\n",
       "<p>5 rows × 116 columns</p>\n",
       "</div>"
      ],
      "text/plain": [
       "   STATE_CA  STATE_FL  STATE_GA  STATE_IL  STATE_IN  STATE_MI  STATE_MO  \\\n",
       "0       0.0       0.0       0.0       1.0       0.0       0.0       0.0   \n",
       "1       1.0       0.0       0.0       0.0       0.0       0.0       0.0   \n",
       "2       0.0       0.0       0.0       0.0       0.0       0.0       0.0   \n",
       "3       1.0       0.0       0.0       0.0       0.0       0.0       0.0   \n",
       "4       0.0       1.0       0.0       0.0       0.0       0.0       0.0   \n",
       "\n",
       "   STATE_NC  STATE_TX  STATE_WA  ...  RFA_2A_G  DOMAIN_A_C  DOMAIN_A_R  \\\n",
       "0       0.0       0.0       0.0  ...       0.0         0.0         0.0   \n",
       "1       0.0       0.0       0.0  ...       1.0         0.0         0.0   \n",
       "2       1.0       0.0       0.0  ...       0.0         0.0         1.0   \n",
       "3       0.0       0.0       0.0  ...       0.0         0.0         1.0   \n",
       "4       0.0       0.0       0.0  ...       0.0         0.0         0.0   \n",
       "\n",
       "   DOMAIN_A_S  DOMAIN_A_T  DOMAIN_A_U  DOMAIN_B_1  DOMAIN_B_2  DOMAIN_B_3  \\\n",
       "0         0.0         1.0         0.0         0.0         1.0         0.0   \n",
       "1         1.0         0.0         0.0         1.0         0.0         0.0   \n",
       "2         0.0         0.0         0.0         0.0         1.0         0.0   \n",
       "3         0.0         0.0         0.0         0.0         1.0         0.0   \n",
       "4         1.0         0.0         0.0         0.0         1.0         0.0   \n",
       "\n",
       "   DOMAIN_B_4  \n",
       "0         0.0  \n",
       "1         0.0  \n",
       "2         0.0  \n",
       "3         0.0  \n",
       "4         0.0  \n",
       "\n",
       "[5 rows x 116 columns]"
      ]
     },
     "execution_count": 7,
     "metadata": {},
     "output_type": "execute_result"
    }
   ],
   "source": [
    "one_hot_names = []\n",
    "for col in categorical.columns:\n",
    "    col_uniques = sorted(categorical[col].astype(str).unique())\n",
    "    for unique in col_uniques:\n",
    "        one_hot_names.append(col+\"_\"+unique)\n",
    "        \n",
    "categorical = pd.DataFrame(OneHotEncoder().fit_transform(categorical.astype(str)).toarray())\n",
    "categorical.columns = one_hot_names\n",
    "categorical.head()"
   ]
  },
  {
   "cell_type": "code",
   "execution_count": null,
   "id": "19b27dd9",
   "metadata": {},
   "outputs": [],
   "source": [
    "# Concatenate numerical and categorical back together again for your X dataframe. Designate the Target as y."
   ]
  },
  {
   "cell_type": "code",
   "execution_count": 8,
   "id": "18591231",
   "metadata": {},
   "outputs": [],
   "source": [
    "X = pd.concat([numerical, categorical], axis=1)\n",
    "y = targets"
   ]
  },
  {
   "cell_type": "code",
   "execution_count": null,
   "id": "4cfd0b2b",
   "metadata": {},
   "outputs": [],
   "source": [
    "#Split the data into a training set and a test set."
   ]
  },
  {
   "cell_type": "code",
   "execution_count": 9,
   "id": "c2e7449f",
   "metadata": {},
   "outputs": [],
   "source": [
    "from sklearn.model_selection import train_test_split\n",
    "\n",
    "X_train, X_test, y_train, y_test = train_test_split(X, y, test_size=0.2, random_state=42)"
   ]
  },
  {
   "cell_type": "code",
   "execution_count": 10,
   "id": "f47cf24b",
   "metadata": {
    "scrolled": true
   },
   "outputs": [
    {
     "data": {
      "text/html": [
       "<div>\n",
       "<style scoped>\n",
       "    .dataframe tbody tr th:only-of-type {\n",
       "        vertical-align: middle;\n",
       "    }\n",
       "\n",
       "    .dataframe tbody tr th {\n",
       "        vertical-align: top;\n",
       "    }\n",
       "\n",
       "    .dataframe thead th {\n",
       "        text-align: right;\n",
       "    }\n",
       "</style>\n",
       "<table border=\"1\" class=\"dataframe\">\n",
       "  <thead>\n",
       "    <tr style=\"text-align: right;\">\n",
       "      <th></th>\n",
       "      <th>ODATEDW</th>\n",
       "      <th>TCODE</th>\n",
       "      <th>DOB</th>\n",
       "      <th>AGE</th>\n",
       "      <th>INCOME</th>\n",
       "      <th>WEALTH1</th>\n",
       "      <th>HIT</th>\n",
       "      <th>MALEMILI</th>\n",
       "      <th>MALEVET</th>\n",
       "      <th>VIETVETS</th>\n",
       "      <th>...</th>\n",
       "      <th>RFA_2A_G</th>\n",
       "      <th>DOMAIN_A_C</th>\n",
       "      <th>DOMAIN_A_R</th>\n",
       "      <th>DOMAIN_A_S</th>\n",
       "      <th>DOMAIN_A_T</th>\n",
       "      <th>DOMAIN_A_U</th>\n",
       "      <th>DOMAIN_B_1</th>\n",
       "      <th>DOMAIN_B_2</th>\n",
       "      <th>DOMAIN_B_3</th>\n",
       "      <th>DOMAIN_B_4</th>\n",
       "    </tr>\n",
       "  </thead>\n",
       "  <tbody>\n",
       "    <tr>\n",
       "      <th>85225</th>\n",
       "      <td>0.928315</td>\n",
       "      <td>0.000389</td>\n",
       "      <td>0.000000</td>\n",
       "      <td>0.624862</td>\n",
       "      <td>0.000000</td>\n",
       "      <td>1.000000</td>\n",
       "      <td>0.000000</td>\n",
       "      <td>0.0</td>\n",
       "      <td>0.292929</td>\n",
       "      <td>0.363636</td>\n",
       "      <td>...</td>\n",
       "      <td>0.0</td>\n",
       "      <td>0.0</td>\n",
       "      <td>0.0</td>\n",
       "      <td>0.0</td>\n",
       "      <td>0.0</td>\n",
       "      <td>1.0</td>\n",
       "      <td>1.0</td>\n",
       "      <td>0.0</td>\n",
       "      <td>0.0</td>\n",
       "      <td>0.0</td>\n",
       "    </tr>\n",
       "    <tr>\n",
       "      <th>70004</th>\n",
       "      <td>0.498208</td>\n",
       "      <td>0.000000</td>\n",
       "      <td>0.350257</td>\n",
       "      <td>0.649485</td>\n",
       "      <td>0.571429</td>\n",
       "      <td>1.000000</td>\n",
       "      <td>0.000000</td>\n",
       "      <td>0.0</td>\n",
       "      <td>0.232323</td>\n",
       "      <td>0.232323</td>\n",
       "      <td>...</td>\n",
       "      <td>0.0</td>\n",
       "      <td>0.0</td>\n",
       "      <td>0.0</td>\n",
       "      <td>1.0</td>\n",
       "      <td>0.0</td>\n",
       "      <td>0.0</td>\n",
       "      <td>1.0</td>\n",
       "      <td>0.0</td>\n",
       "      <td>0.0</td>\n",
       "      <td>0.0</td>\n",
       "    </tr>\n",
       "    <tr>\n",
       "      <th>88133</th>\n",
       "      <td>0.354839</td>\n",
       "      <td>0.000014</td>\n",
       "      <td>0.360556</td>\n",
       "      <td>0.639175</td>\n",
       "      <td>1.000000</td>\n",
       "      <td>0.666667</td>\n",
       "      <td>0.008299</td>\n",
       "      <td>0.0</td>\n",
       "      <td>0.252525</td>\n",
       "      <td>0.272727</td>\n",
       "      <td>...</td>\n",
       "      <td>0.0</td>\n",
       "      <td>0.0</td>\n",
       "      <td>0.0</td>\n",
       "      <td>0.0</td>\n",
       "      <td>1.0</td>\n",
       "      <td>0.0</td>\n",
       "      <td>0.0</td>\n",
       "      <td>1.0</td>\n",
       "      <td>0.0</td>\n",
       "      <td>0.0</td>\n",
       "    </tr>\n",
       "    <tr>\n",
       "      <th>79106</th>\n",
       "      <td>0.354839</td>\n",
       "      <td>0.000028</td>\n",
       "      <td>0.267868</td>\n",
       "      <td>0.731959</td>\n",
       "      <td>0.285714</td>\n",
       "      <td>1.000000</td>\n",
       "      <td>0.000000</td>\n",
       "      <td>0.0</td>\n",
       "      <td>0.343434</td>\n",
       "      <td>0.191919</td>\n",
       "      <td>...</td>\n",
       "      <td>0.0</td>\n",
       "      <td>0.0</td>\n",
       "      <td>0.0</td>\n",
       "      <td>1.0</td>\n",
       "      <td>0.0</td>\n",
       "      <td>0.0</td>\n",
       "      <td>0.0</td>\n",
       "      <td>0.0</td>\n",
       "      <td>1.0</td>\n",
       "      <td>0.0</td>\n",
       "    </tr>\n",
       "    <tr>\n",
       "      <th>35476</th>\n",
       "      <td>0.426523</td>\n",
       "      <td>0.000000</td>\n",
       "      <td>0.000000</td>\n",
       "      <td>0.624862</td>\n",
       "      <td>0.142857</td>\n",
       "      <td>1.000000</td>\n",
       "      <td>0.000000</td>\n",
       "      <td>0.0</td>\n",
       "      <td>0.373737</td>\n",
       "      <td>0.464646</td>\n",
       "      <td>...</td>\n",
       "      <td>0.0</td>\n",
       "      <td>0.0</td>\n",
       "      <td>1.0</td>\n",
       "      <td>0.0</td>\n",
       "      <td>0.0</td>\n",
       "      <td>0.0</td>\n",
       "      <td>0.0</td>\n",
       "      <td>1.0</td>\n",
       "      <td>0.0</td>\n",
       "      <td>0.0</td>\n",
       "    </tr>\n",
       "  </tbody>\n",
       "</table>\n",
       "<p>5 rows × 437 columns</p>\n",
       "</div>"
      ],
      "text/plain": [
       "        ODATEDW     TCODE       DOB       AGE    INCOME   WEALTH1       HIT  \\\n",
       "85225  0.928315  0.000389  0.000000  0.624862  0.000000  1.000000  0.000000   \n",
       "70004  0.498208  0.000000  0.350257  0.649485  0.571429  1.000000  0.000000   \n",
       "88133  0.354839  0.000014  0.360556  0.639175  1.000000  0.666667  0.008299   \n",
       "79106  0.354839  0.000028  0.267868  0.731959  0.285714  1.000000  0.000000   \n",
       "35476  0.426523  0.000000  0.000000  0.624862  0.142857  1.000000  0.000000   \n",
       "\n",
       "       MALEMILI   MALEVET  VIETVETS  ...  RFA_2A_G  DOMAIN_A_C  DOMAIN_A_R  \\\n",
       "85225       0.0  0.292929  0.363636  ...       0.0         0.0         0.0   \n",
       "70004       0.0  0.232323  0.232323  ...       0.0         0.0         0.0   \n",
       "88133       0.0  0.252525  0.272727  ...       0.0         0.0         0.0   \n",
       "79106       0.0  0.343434  0.191919  ...       0.0         0.0         0.0   \n",
       "35476       0.0  0.373737  0.464646  ...       0.0         0.0         1.0   \n",
       "\n",
       "       DOMAIN_A_S  DOMAIN_A_T  DOMAIN_A_U  DOMAIN_B_1  DOMAIN_B_2  DOMAIN_B_3  \\\n",
       "85225         0.0         0.0         1.0         1.0         0.0         0.0   \n",
       "70004         1.0         0.0         0.0         1.0         0.0         0.0   \n",
       "88133         0.0         1.0         0.0         0.0         1.0         0.0   \n",
       "79106         1.0         0.0         0.0         0.0         0.0         1.0   \n",
       "35476         0.0         0.0         0.0         0.0         1.0         0.0   \n",
       "\n",
       "       DOMAIN_B_4  \n",
       "85225         0.0  \n",
       "70004         0.0  \n",
       "88133         0.0  \n",
       "79106         0.0  \n",
       "35476         0.0  \n",
       "\n",
       "[5 rows x 437 columns]"
      ]
     },
     "execution_count": 10,
     "metadata": {},
     "output_type": "execute_result"
    }
   ],
   "source": [
    "X_train.head()"
   ]
  },
  {
   "cell_type": "code",
   "execution_count": null,
   "id": "601cf51d",
   "metadata": {},
   "outputs": [],
   "source": [
    "#Fit a logistic regression model on the training data."
   ]
  },
  {
   "cell_type": "code",
   "execution_count": 11,
   "id": "5a611986",
   "metadata": {},
   "outputs": [],
   "source": [
    "from sklearn.linear_model import LogisticRegression\n",
    "\n",
    "model = LogisticRegression()\n",
    "model.fit(X_train, y_train)\n",
    "y_pred = model.predict(X_test)"
   ]
  },
  {
   "cell_type": "code",
   "execution_count": null,
   "id": "469e62a0",
   "metadata": {},
   "outputs": [],
   "source": [
    "#Check the accuracy on the test data."
   ]
  },
  {
   "cell_type": "code",
   "execution_count": 12,
   "id": "b712f9ac",
   "metadata": {},
   "outputs": [
    {
     "data": {
      "text/plain": [
       "0.9487501965099827"
      ]
     },
     "execution_count": 12,
     "metadata": {},
     "output_type": "execute_result"
    }
   ],
   "source": [
    "accuracy = model.score(X_test, y_test)\n",
    "accuracy"
   ]
  },
  {
   "cell_type": "code",
   "execution_count": null,
   "id": "19021621",
   "metadata": {},
   "outputs": [],
   "source": [
    "#Managing imbalance in the dataset"
   ]
  },
  {
   "cell_type": "code",
   "execution_count": 13,
   "id": "3f4b1b58",
   "metadata": {},
   "outputs": [
    {
     "data": {
      "text/plain": [
       "TARGET_B\n",
       "0           90569\n",
       "1            4843\n",
       "dtype: int64"
      ]
     },
     "execution_count": 13,
     "metadata": {},
     "output_type": "execute_result"
    }
   ],
   "source": [
    "targets.value_counts()"
   ]
  },
  {
   "cell_type": "code",
   "execution_count": null,
   "id": "8578c419",
   "metadata": {},
   "outputs": [],
   "source": [
    "#Use the resampling strategies used in class for upsampling and downsampling to create a balance between the two classes."
   ]
  },
  {
   "cell_type": "code",
   "execution_count": 14,
   "id": "434264b3",
   "metadata": {},
   "outputs": [
    {
     "data": {
      "text/plain": [
       "TARGET_B\n",
       "0           90569\n",
       "1           90569\n",
       "dtype: int64"
      ]
     },
     "execution_count": 14,
     "metadata": {},
     "output_type": "execute_result"
    }
   ],
   "source": [
    "# OVERSAMPLING\n",
    "\n",
    "smote = SMOTE()\n",
    "\n",
    "x_resampled,y_resampled=smote.fit_resample(X,targets)\n",
    "y_resampled.value_counts()"
   ]
  },
  {
   "cell_type": "code",
   "execution_count": 15,
   "id": "ca2335db",
   "metadata": {},
   "outputs": [
    {
     "data": {
      "text/plain": [
       "0.602186154355747"
      ]
     },
     "execution_count": 15,
     "metadata": {},
     "output_type": "execute_result"
    }
   ],
   "source": [
    "X_train, X_test, y_train, y_test = train_test_split(x_resampled, y_resampled, test_size=0.2, random_state=42)\n",
    "model = LogisticRegression()\n",
    "model.fit(X_train, y_train)\n",
    "\n",
    "y_pred = model.predict(X_test)\n",
    "accuracy = accuracy_score(y_test, y_pred)\n",
    "accuracy"
   ]
  },
  {
   "cell_type": "code",
   "execution_count": 16,
   "id": "3e689fec",
   "metadata": {},
   "outputs": [
    {
     "data": {
      "text/plain": [
       "TARGET_B\n",
       "0           4843\n",
       "1           4843\n",
       "dtype: int64"
      ]
     },
     "execution_count": 16,
     "metadata": {},
     "output_type": "execute_result"
    }
   ],
   "source": [
    "# UNDERSAMPLING\n",
    "\n",
    "RUS=RandomUnderSampler(random_state=0)\n",
    "x_resampled,y_resampled=RUS.fit_resample(X,targets)\n",
    "\n",
    "y_resampled.value_counts()"
   ]
  },
  {
   "cell_type": "code",
   "execution_count": 17,
   "id": "7a3d51f8",
   "metadata": {},
   "outputs": [
    {
     "data": {
      "text/plain": [
       "0.5830753353973168"
      ]
     },
     "execution_count": 17,
     "metadata": {},
     "output_type": "execute_result"
    }
   ],
   "source": [
    "X_train, X_test, y_train, y_test = train_test_split(x_resampled, y_resampled, test_size=0.2, random_state=42)\n",
    "model = LogisticRegression()\n",
    "model.fit(X_train, y_train)\n",
    "\n",
    "y_pred = model.predict(X_test)\n",
    "accuracy = accuracy_score(y_test, y_pred)\n",
    "accuracy"
   ]
  },
  {
   "cell_type": "code",
   "execution_count": 20,
   "id": "9f33756a",
   "metadata": {},
   "outputs": [
    {
     "data": {
      "text/plain": [
       "TARGET_B\n",
       "0           88664\n",
       "1            4843\n",
       "dtype: int64"
      ]
     },
     "execution_count": 20,
     "metadata": {},
     "output_type": "execute_result"
    }
   ],
   "source": [
    "# TOMEKLINKS\n",
    "\n",
    "from imblearn.under_sampling import TomekLinks\n",
    "\n",
    "tl = TomekLinks(sampling_strategy='majority')\n",
    "X_tl, y_tl=tl.fit_resample(X,y)\n",
    "y_tl.value_counts()"
   ]
  },
  {
   "cell_type": "code",
   "execution_count": 21,
   "id": "8d1e5026",
   "metadata": {},
   "outputs": [
    {
     "data": {
      "text/plain": [
       "0.9466901935621859"
      ]
     },
     "execution_count": 21,
     "metadata": {},
     "output_type": "execute_result"
    }
   ],
   "source": [
    "X_train, X_test, y_train, y_test = train_test_split(X_tl, y_tl, test_size=0.2, random_state=42)\n",
    "model = LogisticRegression()\n",
    "model.fit(X_train, y_train)\n",
    "\n",
    "y_pred = model.predict(X_test)\n",
    "accuracy = accuracy_score(y_test, y_pred)\n",
    "accuracy"
   ]
  }
 ],
 "metadata": {
  "kernelspec": {
   "display_name": "Python 3 (ipykernel)",
   "language": "python",
   "name": "python3"
  },
  "language_info": {
   "codemirror_mode": {
    "name": "ipython",
    "version": 3
   },
   "file_extension": ".py",
   "mimetype": "text/x-python",
   "name": "python",
   "nbconvert_exporter": "python",
   "pygments_lexer": "ipython3",
   "version": "3.9.13"
  }
 },
 "nbformat": 4,
 "nbformat_minor": 5
}
