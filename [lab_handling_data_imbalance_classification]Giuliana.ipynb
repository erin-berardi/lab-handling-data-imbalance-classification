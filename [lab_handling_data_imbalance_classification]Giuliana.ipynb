{
  "cells": [
    {
      "cell_type": "code",
      "execution_count": 1,
      "id": "0a1ba179",
      "metadata": {
        "id": "0a1ba179"
      },
      "outputs": [],
      "source": [
        "import pandas as pd\n",
        "import numpy as np\n",
        "\n",
        "import warnings\n",
        "warnings.filterwarnings('ignore')"
      ]
    },
    {
      "cell_type": "code",
      "execution_count": 4,
      "id": "8aa323b2",
      "metadata": {
        "id": "8aa323b2"
      },
      "outputs": [],
      "source": [
        "donors = pd.read_csv('learningSet.txt')\n"
      ]
    },
    {
      "cell_type": "code",
      "execution_count": 5,
      "id": "fdddda55",
      "metadata": {
        "scrolled": true,
        "colab": {
          "base_uri": "https://localhost:8080/"
        },
        "id": "fdddda55",
        "outputId": "3350ab07-970f-425f-af53-32b9ba7ac22c"
      },
      "outputs": [
        {
          "output_type": "execute_result",
          "data": {
            "text/plain": [
              "int64      300\n",
              "float64    107\n",
              "object      74\n",
              "dtype: int64"
            ]
          },
          "metadata": {},
          "execution_count": 5
        }
      ],
      "source": [
        "# Checking the dtypes\n",
        "donors.dtypes.value_counts()"
      ]
    },
    {
      "cell_type": "code",
      "execution_count": 6,
      "id": "679756cc",
      "metadata": {
        "id": "679756cc"
      },
      "outputs": [],
      "source": [
        "# Check for null values in the dataframe. Replace the null values using the methods learned in class.\n",
        "# Because it is a big table, with over 400 rows, the best way is to to show the percentage of NaN values\n",
        "\n",
        "nulls_percent_df = donors.isna().sum()/len(donors)\n",
        "\n",
        "nulls_percent_df = pd.DataFrame(donors.isna().sum()/len(donors)).reset_index()\n",
        "\n",
        "nulls_percent_df.columns = ['columns_name', 'nulls_percentage']\n",
        "nulls_percent_df.sort_values(by = ['nulls_percentage'], ascending = False)\n",
        "\n",
        "# Because we have a lot of rows, we I'm considering 30% of the data missing as a criteria to drop the columns\n",
        "\n",
        "threshold = 0.30\n",
        "condition = nulls_percent_df['nulls_percentage'] > threshold\n",
        "columns_above_threshold = nulls_percent_df[condition]\n",
        "drop_columns_list = list(columns_above_threshold['columns_name'])\n",
        "donors = donors.drop(columns=drop_columns_list)"
      ]
    },
    {
      "cell_type": "code",
      "execution_count": 7,
      "id": "08eaf968",
      "metadata": {
        "id": "08eaf968"
      },
      "outputs": [],
      "source": [
        "# Dealing with the Nan and empty spaces\n",
        "# Repleacing the empty spaces for the most present\n",
        "donors['DOMAIN'].replace(' ', 'R2', inplace = True)\n",
        "\n",
        "# I'm replacing the nulls for the mode\n",
        "\n",
        "mode_values = donors.mode().iloc[0]\n",
        "donors = donors.fillna(mode_values)\n"
      ]
    },
    {
      "cell_type": "code",
      "execution_count": 8,
      "id": "c36b58e9",
      "metadata": {
        "scrolled": true,
        "id": "c36b58e9"
      },
      "outputs": [],
      "source": [
        "# Split the data into numerical and catagorical. Decide if any columns need their dtype changed.\n",
        "\n",
        "numerical = donors.select_dtypes(include='number')\n",
        "categorical = donors.select_dtypes(include='object')\n"
      ]
    },
    {
      "cell_type": "code",
      "execution_count": 9,
      "id": "60501295",
      "metadata": {
        "id": "60501295"
      },
      "outputs": [],
      "source": [
        "# I'm converting the ZIP column to numerical and adding it to the numerical column\n",
        "# Because the column has some non numeric value, I'm selecting only the numbers\n",
        "categorical['ZIP'] = categorical['ZIP'].str.extract('(\\d+)', expand=False)\n",
        "numerical['ZIP'] = categorical['ZIP']\n",
        "categorical = categorical.drop('ZIP', axis=1)"
      ]
    },
    {
      "cell_type": "code",
      "execution_count": 10,
      "id": "94623fbe",
      "metadata": {
        "scrolled": true,
        "id": "94623fbe"
      },
      "outputs": [],
      "source": [
        "categorical = categorical.reset_index(drop=True)\n",
        "numerical = numerical.reset_index(drop=True)"
      ]
    },
    {
      "cell_type": "code",
      "execution_count": 11,
      "id": "7aaf3aef",
      "metadata": {
        "id": "7aaf3aef"
      },
      "outputs": [],
      "source": [
        "# Concatenate numerical and categorical back together again for your X dataframe. Designate the Target as y.\n",
        "\n",
        "X = pd.concat([numerical, categorical], axis=1)\n",
        "X = X.drop(['TARGET_B', 'TARGET_D'], axis=1)\n",
        "y = donors['TARGET_B']\n"
      ]
    },
    {
      "cell_type": "code",
      "execution_count": 12,
      "id": "f58b07a9",
      "metadata": {
        "id": "f58b07a9"
      },
      "outputs": [],
      "source": [
        "numericalX = X.select_dtypes(include = [np.number])\n",
        "categoricalX = X.select_dtypes(exclude = [np.number])"
      ]
    },
    {
      "cell_type": "code",
      "execution_count": 13,
      "id": "60941ff2",
      "metadata": {
        "id": "60941ff2"
      },
      "outputs": [],
      "source": [
        "categoricalX = categoricalX.astype(str)\n",
        "\n",
        "from sklearn.preprocessing import OneHotEncoder\n",
        "encoder = OneHotEncoder(drop='first').fit(categoricalX)\n",
        "encoded_categorical = encoder.transform(categoricalX).toarray()\n",
        "encoded_categorical = pd.DataFrame(encoded_categorical)\n",
        "encoded_categorical.columns = [str(col) if isinstance(col, int) else col for col in encoded_categorical.columns]\n",
        "\n",
        "from sklearn.preprocessing import StandardScaler\n",
        "scaler = StandardScaler()\n",
        "numericalX_norm = scaler.fit_transform(numericalX)\n",
        "\n",
        "\n"
      ]
    },
    {
      "cell_type": "code",
      "execution_count": 14,
      "id": "f67394dc-8096-44f7-be99-49a5db4effed",
      "metadata": {
        "id": "f67394dc-8096-44f7-be99-49a5db4effed"
      },
      "outputs": [],
      "source": [
        "numericalX_norm = pd.DataFrame(numericalX_norm, columns=numericalX.columns)"
      ]
    },
    {
      "cell_type": "code",
      "execution_count": 15,
      "id": "3072e860-67f0-4217-85ec-e6161be9bd56",
      "metadata": {
        "id": "3072e860-67f0-4217-85ec-e6161be9bd56"
      },
      "outputs": [],
      "source": [
        "X = pd.concat([numericalX_norm, encoded_categorical], axis=1)"
      ]
    },
    {
      "cell_type": "code",
      "execution_count": 16,
      "id": "9bb65a0a",
      "metadata": {
        "id": "9bb65a0a"
      },
      "outputs": [],
      "source": [
        "\n",
        "from sklearn.model_selection import train_test_split\n",
        "\n",
        "X_train, X_test, y_train, y_test = train_test_split(X, y, random_state = 0, test_size = 0.2)"
      ]
    },
    {
      "cell_type": "code",
      "source": [
        "X.columns = X.columns.astype(str)"
      ],
      "metadata": {
        "id": "QKkQ9SOdeIEG"
      },
      "id": "QKkQ9SOdeIEG",
      "execution_count": 17,
      "outputs": []
    },
    {
      "cell_type": "code",
      "execution_count": 18,
      "id": "b62d1f8f",
      "metadata": {
        "id": "b62d1f8f"
      },
      "outputs": [],
      "source": [
        "#  Fit a logistic regression model on the training data\n",
        "#  Check the accuracy on the test data.\n",
        "\n",
        "from sklearn.linear_model import LogisticRegression\n",
        "from sklearn.metrics import accuracy_score\n",
        "# from sklearn.preprocessing import StandardScaler\n",
        "\n",
        "# because the data was already scaled and fit in previous steps, I'm defininf the model\n",
        "\n",
        "lr = LogisticRegression(random_state=42)\n",
        "lr.fit(X_train, y_train)\n",
        "\n",
        "# Predict on the test set\n",
        "y_pred = lr.predict(X_test)\n"
      ]
    },
    {
      "cell_type": "code",
      "execution_count": 19,
      "id": "a45bf98f",
      "metadata": {
        "id": "a45bf98f",
        "colab": {
          "base_uri": "https://localhost:8080/"
        },
        "outputId": "fe27cc5b-98cc-4f1a-c9a1-6431cd35bb9c"
      },
      "outputs": [
        {
          "output_type": "stream",
          "name": "stdout",
          "text": [
            "              precision    recall  f1-score   support\n",
            "\n",
            "         0.0       0.96      0.98      0.97      1471\n",
            "         1.0       0.10      0.05      0.06        65\n",
            "\n",
            "    accuracy                           0.94      1536\n",
            "   macro avg       0.53      0.51      0.52      1536\n",
            "weighted avg       0.92      0.94      0.93      1536\n",
            "\n"
          ]
        }
      ],
      "source": [
        "# Compute the accuracy\n",
        "from sklearn.metrics import classification_report\n",
        "\n",
        "print(classification_report(y_test, y_pred))\n"
      ]
    },
    {
      "cell_type": "code",
      "source": [
        "# Managing imbalance in the dataset\n",
        "\n",
        "# Check for the imbalance\n",
        "\n",
        "y_train.value_counts()\n"
      ],
      "metadata": {
        "colab": {
          "base_uri": "https://localhost:8080/"
        },
        "id": "UnJbRVP-gAis",
        "outputId": "6c45716c-d189-4957-83a5-c47700dc2275"
      },
      "id": "UnJbRVP-gAis",
      "execution_count": 20,
      "outputs": [
        {
          "output_type": "execute_result",
          "data": {
            "text/plain": [
              "0.0    5827\n",
              "1.0     317\n",
              "Name: TARGET_B, dtype: int64"
            ]
          },
          "metadata": {},
          "execution_count": 20
        }
      ]
    },
    {
      "cell_type": "code",
      "source": [
        "df_train = pd.concat([X_train, y_train], axis = 1)"
      ],
      "metadata": {
        "id": "I1IXC3pck8vh"
      },
      "id": "I1IXC3pck8vh",
      "execution_count": 21,
      "outputs": []
    },
    {
      "cell_type": "code",
      "source": [
        "# Use the resampling strategies used in class for upsampling and downsampling to create a balance between the two classes.\n",
        "\n",
        "category_0 = df_train[df_train[\"TARGET_B\"] == 0]\n",
        "category_1 = df_train[df_train[\"TARGET_B\"] == 1]\n",
        "\n",
        "\n"
      ],
      "metadata": {
        "id": "E-b0o7xyjjtq"
      },
      "id": "E-b0o7xyjjtq",
      "execution_count": 22,
      "outputs": []
    },
    {
      "cell_type": "code",
      "source": [
        "category_0 = category_0.sample(len(category_1))\n",
        "\n",
        "df_undersampled = pd.concat([category_0, category_1], axis = 0).reset_index(drop = True)\n"
      ],
      "metadata": {
        "id": "0Ka69-cV67Z4"
      },
      "id": "0Ka69-cV67Z4",
      "execution_count": 23,
      "outputs": []
    },
    {
      "cell_type": "code",
      "source": [
        "# Checking the balance after the undersample\n",
        "\n",
        "df_undersampled['TARGET_B'].value_counts()"
      ],
      "metadata": {
        "colab": {
          "base_uri": "https://localhost:8080/"
        },
        "id": "Z91GKXN47ZNn",
        "outputId": "fab93f7b-2a9d-4a42-e5d8-f946315e99cc"
      },
      "id": "Z91GKXN47ZNn",
      "execution_count": 24,
      "outputs": [
        {
          "output_type": "execute_result",
          "data": {
            "text/plain": [
              "0.0    317\n",
              "1.0    317\n",
              "Name: TARGET_B, dtype: int64"
            ]
          },
          "metadata": {},
          "execution_count": 24
        }
      ]
    },
    {
      "cell_type": "code",
      "source": [
        "X_train_under = df_undersampled.drop('TARGET_B', axis=1)\n",
        "y_train_under = df_undersampled['TARGET_B']\n",
        "\n",
        "# Model with the undersampled data\n",
        "lr.fit(X_train_under, y_train_under)\n",
        "\n",
        "# Predict on the test set\n",
        "y_pred_under = lr.predict(X_test)\n",
        "\n"
      ],
      "metadata": {
        "id": "h2ly57WTjkt8"
      },
      "id": "h2ly57WTjkt8",
      "execution_count": 25,
      "outputs": []
    },
    {
      "cell_type": "code",
      "source": [
        "print(classification_report(y_test, y_pred_under))"
      ],
      "metadata": {
        "colab": {
          "base_uri": "https://localhost:8080/"
        },
        "id": "nLV7qFJsAlv9",
        "outputId": "b815928b-1848-4197-b8ce-4e97deb07b7a"
      },
      "id": "nLV7qFJsAlv9",
      "execution_count": 26,
      "outputs": [
        {
          "output_type": "stream",
          "name": "stdout",
          "text": [
            "              precision    recall  f1-score   support\n",
            "\n",
            "         0.0       0.97      0.53      0.68      1471\n",
            "         1.0       0.05      0.58      0.10        65\n",
            "\n",
            "    accuracy                           0.53      1536\n",
            "   macro avg       0.51      0.56      0.39      1536\n",
            "weighted avg       0.93      0.53      0.66      1536\n",
            "\n"
          ]
        }
      ]
    },
    {
      "cell_type": "code",
      "source": [
        "# Using SMOTE to upsample the data\n",
        "\n",
        "from imblearn.over_sampling import SMOTE\n",
        "\n",
        "# Applying SMOTE to the training data only\n",
        "\n",
        "smote = SMOTE(random_state=42)\n",
        "X_train_sm, y_train_sm = smote.fit_resample(X_train, y_train)"
      ],
      "metadata": {
        "id": "nzc2jK5oEl08"
      },
      "id": "nzc2jK5oEl08",
      "execution_count": 27,
      "outputs": []
    },
    {
      "cell_type": "code",
      "source": [
        "y_train_sm.value_counts()"
      ],
      "metadata": {
        "colab": {
          "base_uri": "https://localhost:8080/"
        },
        "id": "Gm_OzvRiE2s0",
        "outputId": "1e315cd7-9687-459e-c49b-5a6646d2871d"
      },
      "id": "Gm_OzvRiE2s0",
      "execution_count": 28,
      "outputs": [
        {
          "output_type": "execute_result",
          "data": {
            "text/plain": [
              "0.0    5827\n",
              "1.0    5827\n",
              "Name: TARGET_B, dtype: int64"
            ]
          },
          "metadata": {},
          "execution_count": 28
        }
      ]
    },
    {
      "cell_type": "code",
      "source": [
        "# Model with the oversampled data\n",
        "lr.fit(X_train_sm, y_train_sm)\n",
        "\n",
        "# Predict on the test set\n",
        "y_pred_sm = lr.predict(X_test)\n",
        "\n",
        "print(classification_report(y_test, y_pred_sm))"
      ],
      "metadata": {
        "colab": {
          "base_uri": "https://localhost:8080/"
        },
        "id": "soQJ1CxpHFUh",
        "outputId": "da8799fe-b3a6-4f38-c777-bee57989649f"
      },
      "id": "soQJ1CxpHFUh",
      "execution_count": 29,
      "outputs": [
        {
          "output_type": "stream",
          "name": "stdout",
          "text": [
            "              precision    recall  f1-score   support\n",
            "\n",
            "         0.0       0.96      0.90      0.93      1471\n",
            "         1.0       0.07      0.17      0.10        65\n",
            "\n",
            "    accuracy                           0.87      1536\n",
            "   macro avg       0.51      0.53      0.51      1536\n",
            "weighted avg       0.92      0.87      0.89      1536\n",
            "\n"
          ]
        }
      ]
    }
  ],
  "metadata": {
    "kernelspec": {
      "display_name": "Python 3",
      "name": "python3"
    },
    "language_info": {
      "codemirror_mode": {
        "name": "ipython",
        "version": 3
      },
      "file_extension": ".py",
      "mimetype": "text/x-python",
      "name": "python",
      "nbconvert_exporter": "python",
      "pygments_lexer": "ipython3",
      "version": "3.11.7"
    },
    "colab": {
      "provenance": [],
      "machine_shape": "hm"
    }
  },
  "nbformat": 4,
  "nbformat_minor": 5
}